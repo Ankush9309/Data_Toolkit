{
  "nbformat": 4,
  "nbformat_minor": 0,
  "metadata": {
    "colab": {
      "provenance": []
    },
    "kernelspec": {
      "name": "python3",
      "display_name": "Python 3"
    },
    "language_info": {
      "name": "python"
    }
  },
  "cells": [
    {
      "cell_type": "markdown",
      "source": [
        "#  Data Toolkit"
      ],
      "metadata": {
        "id": "tavomCI63x8s"
      }
    },
    {
      "cell_type": "markdown",
      "source": [
        " 1. What is NumPy, and why is it widely used in Python?\n",
        "  - NumPy (Numerical Python) is a powerful open-source library in Python used for numerical computing. It provides support for:\n",
        "      - N-dimensional arrays\n",
        "      - Mathematical functions:\n",
        "      - Linear Algebra operations:\n",
        "      - Random number generation:\n",
        "      - Integration with other libraries:\n",
        "      - Memory-efficient:\n",
        "\n",
        "  - NumPy is widely used in Python for:\n",
        "      - Fast Array Operations\n",
        "      - Scientific Computing\n",
        "      - Broadcasting\n",
        "      - Vectorization\n",
        "      - Library Backbone\n",
        "\n",
        " 2. How does broadcasting work in NumPy?\n",
        "  - Broadcasting in NumPy is a powerful feature that allows array operations between arrays of different shapes without explicitly replicating data. Instead of creating redundant data, NumPy \"broadcasts\" the smaller array across the larger one so they can operate together element-wise.\n",
        "\n",
        "  When operating on two arrays, NumPy compares their shapes starting from the trailing dimensions (i.e., from right to left) and applies these rules:\n",
        "      - If dimensions are equal, they are compatible.\n",
        "      - If one dimension is 1, it can be stretched to match the other.\n",
        "      - If dimensions are different and neither is 1, it's an error.\n",
        "\n",
        " 3. What is a Pandas DataFrame?\n",
        "  - A Pandas DataFrame is a 2-dimensional, labeled data structure in Python, very similar to a table or spreadsheet.\n",
        "  It is part of the Pandas library, which is widely used for data analysis, manipulation, and cleaning.\n",
        "\n",
        " 4. Explain the use of the groupby() method in Pandas?\n",
        "  - The groupby() method in Pandas is used to group data based on one or more columns and then perform operations (like sum, mean, count, etc.) on each group independently.\n",
        "  It’s extremely useful for data aggregation and analysis, similar to the GROUP BY clause in SQL.\n",
        "\n",
        " 5. Why is Seaborn preferred for statistical visualizations?\n",
        "  - Seaborn is a Python data visualization library based on Matplotlib, and it is widely preferred for statistical visualizations because it makes complex plots easier to create, more visually attractive, and statistically meaningful—all with very little code.\n",
        "     \n",
        "     Seaborn is Preferred for Statistical Visualizations for:\n",
        "          1. High-level Interface\n",
        "          2. Beautiful Default Styles\n",
        "          3. Built-in Statistical Functions\n",
        "          4. Integration with Pandas\n",
        "          5. Variety of Statistical Plots\n",
        "          6. Automatic Aggregation\n",
        "\n",
        " 6. What are the differences between NumPy arrays and Python lists?\n",
        "  - While NumPy arrays and Python lists may look similar at first (both can hold sequences of elements), they are very different in functionality, performance, and behavior.\n",
        "\n",
        "      Key Differences Between NumPy Arrays and Python Lists:\n",
        "          1. Data Type\n",
        "          2. Performance\n",
        "          3. Element-wise Operations\n",
        "          4. Memory Efficiency\n",
        "          5. Functionality\n",
        "          6. Broadcasting\n",
        "          7. Multidimensional Support\n",
        "          8. Library Support\n",
        "\n",
        " 7. What is a heatmap, and when should it be used?\n",
        "  - A heatmap is a data visualization technique that uses color gradients to represent the magnitude or intensity of values in a 2D matrix or table. It's like a colored spreadsheet where each cell’s color corresponds to the numerical value it contains.\n",
        "\n",
        "     heatmap is use for:\n",
        "          1. Correlation Matrices\n",
        "          2. Statistical Patterns\n",
        "          3. Pivot Table Display\n",
        "          4. Feature Analysis in ML\n",
        "          5. Geographical Heatmaps\n",
        "\n",
        " 8. What does the term “vectorized operation” mean in NumPy?\n",
        "  - The term “vectorized operation” in NumPy refers to performing operations directly on entire arrays (vectors, matrices, etc.) without using explicit loops.\n",
        "\n",
        "      Instead of processing elements one by one (like in standard Python), NumPy applies operations simultaneously to all elements using high-performance compiled code (C/C++) under the hood. This makes the code faster, cleaner, and more efficient.\n",
        "\n",
        " 9. How does Matplotlib differ from Plotly?\n",
        "  - Matplotlib and Plotly are both powerful Python libraries for data visualization, but they differ in style, capabilities, and use cases.\n",
        "\n",
        "      Here’s a clear comparison to help you understand their main differences:\n",
        "          1.  Type\n",
        "          2. Focus\n",
        "          3. Interactivity\n",
        "          4. Output\n",
        "          5. Customization\n",
        "          6. 3D Plots\n",
        "\n",
        " 10. What is the significance of hierarchical indexing in Pandas)\n",
        "  - Hierarchical indexing (also known as MultiIndexing) in Pandas allows you to have multiple levels of index on rows (and/or columns), enabling you to represent higher-dimensional data in a 2D DataFrame. It is particularly useful for complex data analysis, grouped operations, and pivot tables.\n",
        "\n",
        " 11. What is the role of Seaborn’s pairplot() function?\n",
        "  - The seaborn.pairplot() function is used to create a grid of scatter plots (and optionally histograms or KDE plots) to visually explore relationships between all pairs of numerical variables in a dataset.\n",
        "\n",
        " 12. What is the purpose of the describe() function in Pandas?\n",
        "  - The describe() function in Pandas is used to generate summary statistics of a DataFrame or Series, giving you a quick overview of the central tendency, dispersion, and shape of your data’s distribution.\n",
        "           \n",
        "          Purpose of describe() in Pandas:\n",
        "              1. Summary Statistics\n",
        "              2. Quick Data Overview\n",
        "              3. EDA Tool\n",
        "              4. Works on Categories\n",
        "\n",
        " 13. Why is handling missing data important in Pandas?\n",
        "  - Handling missing data is crucial in Pandas (and in any data analysis process) because incomplete data can lead to incorrect insights, biased models, or even code errors.\n",
        "       \n",
        "       Handling Missing Data is Important in Pandas for:\n",
        "              1. Accuracy of Analysis\n",
        "              2. Errors in Calculations\n",
        "              3. Bias in ML Models\n",
        "              4. Data Consistency\n",
        "              5. Preprocessing Necessity\n",
        "              6. Better Decision-Making\n",
        "\n",
        " 14. What are the benefits of using Plotly for data visualization?\n",
        "  - Plotly is a modern, high-level data visualization library in Python (and other languages) known for its interactive, web-based charts. It's especially useful for data science, business analytics, and dashboards.\n",
        "\n",
        "      Top Benefits of Using Plotly for Data Visualization\n",
        "              1. Interactivity by Default\n",
        "              2. Wide Variety of Charts\n",
        "              3. Web-Ready Output\n",
        "              4. Great for Exploratory Analysis\n",
        "              5. Easy Integration with Pandas\n",
        "              6. Customizable & Beautiful\n",
        "              7. Supports Dash\n",
        "              8. 3D and Geo Plots\n",
        "              9. Useful for Presentations\n",
        "\n",
        " 15. How does NumPy handle multidimensional arrays?\n",
        " - NumPy handles multidimensional arrays using its powerful ndarray object, which supports arrays of any number of dimensions — from 1D vectors to 2D matrices to n-dimensional tensors.\n",
        "\n",
        "      Key Concepts for Multidimensional Arrays in NumPy:\n",
        "              1. ndarray\n",
        "              2. Shape\n",
        "              3. Dimension (ndim)\n",
        "              4. Axes\n",
        "\n",
        " 16. What is the role of Bokeh in data visualization?\n",
        " - Bokeh is a powerful Python library for interactive and web-ready data visualizations. It’s designed to make modern, browser-based visualizations that can handle large datasets and offer real-time interactivity — ideal for dashboards and web apps.\n",
        "\n",
        "      Role of Bokeh in Data Visualization:\n",
        "              1. Interactive Web Visualizations\n",
        "              2. High-Performance Charts\n",
        "              3. Real-Time Interactivity\n",
        "              4. Dashboard Building\n",
        "              5. Declarative API\n",
        "              6. Standalone or Server Apps\n",
        "\n",
        " 17. Explain the difference between apply() and map() in Pandas?\n",
        "  -  Both apply() and map() are used in Pandas to transform data, but they differ in what they work on and how flexible they are.\n",
        "\n",
        "        Key Differences Between apply() and map()\n",
        "                  Feature                 map()\t                       apply()\n",
        "\n",
        "                  Used On            Series only\t                Series or DataFrame\n",
        "            \n",
        "            Operation Type    Element-wise (1-to-1 mapping         More flexible; can apply row-wise or column-wise\n",
        "\n",
        "            Function Types   Works with dicts, functions, Series\tWorks with functions (can be complex)\n",
        "\n",
        "             Return Value      Transformed Series\t              Transformed Series or DataFrame\n",
        "\n",
        "               Use Case         Simple transformations            Aggregations, complex row/column logic\n",
        "                             (e.g., replace values, math ops)\n",
        "\n",
        "\n",
        "\n",
        "\n",
        "  18. What are some advanced features of NumPy?\n",
        " - NumPy is not just for basic arrays and math — it also includes powerful advanced features used in scientific computing, data analysis, and machine learning.\n",
        "\n",
        "       Here are some of the most useful and advanced features of NumPy:\n",
        "                1. Broadcasting\n",
        "                2. Structured Arrays\n",
        "                3. Vectorized Functions (ufuncs)\n",
        "                4. Memory Mapping (Large Files)\n",
        "                5. Linear Algebra with np.linalg\n",
        "                6. Masked Arrays\n",
        "                7. Broadcasting with np.newaxis\n",
        "                8. Random Number Generation (np.random)\n",
        "                9. FFT and Signal Processing\n",
        "               10. Advanced Indexing and Slicing\n",
        "\n",
        "  19.  How does Pandas simplify time series analysis?\n",
        " - Pandas makes time series analysis in Python both powerful and easy by  providing specialized data structures, date-time tools, and built-in methods for working with time-based data. It’s widely used in finance, sensor data, forecasting, and log analysis.\n",
        "\n",
        "          How Pandas Simplifies Time Series Analysis:\n",
        "                1. DateTimeIndex\n",
        "                2. Resampling\n",
        "                3. Rolling/Window Functions\n",
        "                4. Datetime Conversion\n",
        "                5. Time-aware Plotting\n",
        "                6. Shifting/Lagging\n",
        "                7. Missing Time Handling\n",
        "\n",
        "  20. What is the role of a pivot table in Pandas?\n",
        " - The role of a pivot table in Pandas is to summarize, group, and reorganize data — especially tabular or categorical data — in a flexible and readable format, just like Excel pivot tables.\n",
        "\n",
        "          It helps you quickly analyze patterns, trends, or relationships in your data by aggregating values based on one or more keys.\n",
        "\n",
        "          Key Roles of Pivot Tables in Pandas:\n",
        "                1. Data Summarization\n",
        "                2. Aggregation by Category\n",
        "                3. Reorganizing Data Structure\n",
        "                4. Multi-level Grouping\n",
        "                5. Comparing Groups Easily\n",
        "\n",
        "  21. Why is NumPy’s array slicing faster than Python’s list slicing?\n",
        " - NumPy’s array slicing is faster than Python’s list slicing because of how NumPy arrays are stored and accessed in memory — they are optimized for high-performance numerical computation.\n",
        "\n",
        "          Key Reasons Why NumPy Slicing is Faster:\n",
        "                1. Contiguous Memory Storage (C/C++ Backend)\n",
        "                   # NumPy arrays are stored in contiguous blocks of memory,  just like C arrays.\n",
        "                   # Python lists are collections of pointers to objects, which are scattered in memory.\n",
        "                   # Contiguous memory allows faster access, especially for slicing and mathematical operations.\n",
        "\n",
        "                2. No Data Copy on Slice (Views Instead of Copies\n",
        "                  # Slicing a NumPy array returns a view — it does not copy data.\n",
        "                  # Slicing a Python list creates a new list, which takes more memory and time.\n",
        "\n",
        "                3. Low-level Implementation in C\n",
        "                  # NumPy is built on C/Fortran, where slicing is done using pointer arithmetic.\n",
        "                  # Python list slicing is handled by the Python interpreter, which is slower and less efficient.\n",
        "\n",
        "                4. Typed and Fixed-Size Data\n",
        "                  # NumPy arrays are homogeneous (same data type) and fixed-size, making memory access predictable.\n",
        "                  # Python lists are heterogeneous (mixed types) and dynamic, requiring extra overhead.\n",
        "\n",
        "                5. Vectorization Optimization\n",
        "                  # NumPy is designed to support vectorized operations, reducing the need for explicit loops and making slice operations much faster.\n",
        "\n",
        "  22. What are some common use cases for Seaborn?\n",
        " - Seaborn is a Python data visualization library built on top of Matplotlib and tightly integrated with Pandas. It provides a high-level interface for creating beautiful and informative statistical graphics.\n",
        "\n",
        "        Common Use Cases for Seaborn:\n",
        "                1. Exploratory Data Analysis (EDA)\n",
        "                2. Visualizing Distributions\n",
        "                3. Comparing Categories\n",
        "                4. Correlation and Heatmaps\n",
        "                5. Time Series Data\n",
        "                6. Multivariate Relationships\n",
        "                7. Regression Analysis\n",
        "                8. Faceted Plots\n",
        "\n",
        "\n"
      ],
      "metadata": {
        "id": "8_TUfIbX36_o"
      }
    },
    {
      "cell_type": "code",
      "source": [
        "## 1. How do you create a 2D NumPy array and calculate the sum of each row)\n",
        "\n",
        "import numpy as np\n",
        "\n",
        "# Step 1: Create a 2D NumPy array\n",
        "arr = np.array([[1, 2, 3],\n",
        "                [4, 5, 6],\n",
        "                [7, 8, 9]])\n",
        "\n",
        "# Step 2: Calculate the sum of each row\n",
        "row_sums = np.sum(arr, axis=1)\n",
        "\n",
        "print(\"Original array:\")\n",
        "print(arr)\n",
        "\n",
        "print(\"\\nSum of each row:\")\n",
        "print(row_sums)"
      ],
      "metadata": {
        "id": "0jLK0n-MdQfj",
        "colab": {
          "base_uri": "https://localhost:8080/"
        },
        "outputId": "f5ec061c-dfea-4245-9d5f-53f808fccb9a"
      },
      "execution_count": null,
      "outputs": [
        {
          "output_type": "stream",
          "name": "stdout",
          "text": [
            "Original array:\n",
            "[[1 2 3]\n",
            " [4 5 6]\n",
            " [7 8 9]]\n",
            "\n",
            "Sum of each row:\n",
            "[ 6 15 24]\n"
          ]
        }
      ]
    },
    {
      "cell_type": "code",
      "source": [
        "## 2. Write a Pandas script to find the mean of a specific column in a DataFrame?\n",
        "\n",
        "import pandas as pd\n",
        "\n",
        "# Step 1: Create a sample DataFrame\n",
        "data = {\n",
        "    'Name': ['Alice', 'Bob', 'Charlie', 'David'],\n",
        "    'Age': [25, 30, 35, 40],\n",
        "    'Score': [88, 92, 85, 90]\n",
        "}\n",
        "\n",
        "df = pd.DataFrame(data)\n",
        "\n",
        "# Step 2: Calculate the mean of the 'Score' column\n",
        "mean_score = df['Score'].mean()\n",
        "\n",
        "print(\"Mean of 'Score' column:\", mean_score)"
      ],
      "metadata": {
        "colab": {
          "base_uri": "https://localhost:8080/"
        },
        "id": "ngcRWbzYSNMS",
        "outputId": "5f741b15-9ab2-4379-b945-bb4bbeff07c6"
      },
      "execution_count": null,
      "outputs": [
        {
          "output_type": "stream",
          "name": "stdout",
          "text": [
            "Mean of 'Score' column: 88.75\n"
          ]
        }
      ]
    },
    {
      "cell_type": "code",
      "source": [
        "## 3. Create a scatter plot using Matplotlib?\n",
        "\n",
        "import matplotlib.pyplot as plt\n",
        "\n",
        "# Step 1: Sample data\n",
        "x = [10, 20, 30, 40, 50]\n",
        "y = [15, 25, 35, 30, 45]\n",
        "\n",
        "# Step 2: Create scatter plot\n",
        "plt.scatter(x, y, color='blue', marker='o')\n",
        "\n",
        "# Step 3: Add titles and labels\n",
        "plt.title(\"Simple Scatter Plot\")\n",
        "plt.xlabel(\"X-axis\")\n",
        "plt.ylabel(\"Y-axis\")\n",
        "\n",
        "# Step 4: Show the plot\n",
        "plt.show()"
      ],
      "metadata": {
        "colab": {
          "base_uri": "https://localhost:8080/",
          "height": 472
        },
        "id": "WuDAsPvPSqF_",
        "outputId": "b766b5c9-a247-4ec3-be85-0fa1811df412"
      },
      "execution_count": null,
      "outputs": [
        {
          "output_type": "display_data",
          "data": {
            "text/plain": [
              "<Figure size 640x480 with 1 Axes>"
            ],
            "image/png": "[encoded data removed]"
          },
          "metadata": {}
        }
      ]
    },
    {
      "cell_type": "code",
      "source": [
        "## 4. How do you calculate the correlation matrix using Seaborn and visualize it with a heatmap?\n",
        "\n",
        "import pandas as pd\n",
        "import seaborn as sns\n",
        "import matplotlib.pyplot as plt\n",
        "\n",
        "# Step 1: Create or load a DataFrame\n",
        "data = {\n",
        "    'Math': [80, 85, 78, 92, 88],\n",
        "    'Science': [90, 88, 75, 95, 85],\n",
        "    'English': [70, 78, 82, 75, 80]\n",
        "}\n",
        "\n",
        "df = pd.DataFrame(data)\n",
        "\n",
        "# Step 2: Calculate correlation matrix\n",
        "corr_matrix = df.corr()\n",
        "\n",
        "# Step 3: Create a heatmap using Seaborn\n",
        "sns.heatmap(corr_matrix, annot=True, cmap='coolwarm', linewidths=0.5)\n",
        "\n",
        "# Step 4: Add a title and show the plot\n",
        "plt.title(\"Correlation Matrix Heatmap\")\n",
        "plt.show()"
      ],
      "metadata": {
        "colab": {
          "base_uri": "https://localhost:8080/",
          "height": 452
        },
        "id": "7aiRe9MxTKfG",
        "outputId": "a986c195-6832-4598-e12f-fae2969ed4b1"
      },
      "execution_count": null,
      "outputs": [
        {
          "output_type": "display_data",
          "data": {
            "text/plain": [
              "<Figure size 640x480 with 2 Axes>"
            ],
            "image/png": "[encoded data removed]"
          },
          "metadata": {}
        }
      ]
    },
    {
      "cell_type": "code",
      "source": [
        "## 5. Generate a bar plot using Plotly.\n",
        "\n",
        "import plotly.express as px\n",
        "\n",
        "# Step 1: Sample data\n",
        "data = {\n",
        "    'Subjects': ['Math', 'Science', 'English', 'History'],\n",
        "    'Scores': [90, 85, 78, 88]\n",
        "}\n",
        "\n",
        "# Step 2: Create bar plot\n",
        "fig = px.bar(data, x='Subjects', y='Scores', title='Student Scores by Subject',\n",
        "             labels={'Scores': 'Score', 'Subjects': 'Subject'},\n",
        "             color='Subjects')\n",
        "\n",
        "# Step 3: Show the plot\n",
        "fig.show()"
      ],
      "metadata": {
        "colab": {
          "base_uri": "https://localhost:8080/",
          "height": 542
        },
        "id": "rNCdKoo7TWyc",
        "outputId": "2c9541a5-c7c8-4ddd-e06b-0ecaae7ca292"
      },
      "execution_count": null,
      "outputs": [
        {
          "output_type": "display_data",
          "data": {
            "text/html": [
              "<html>\n",
              "<head><meta charset=\"utf-8\" /></head>\n",
              "<body>\n",
              "    <div>            <script src=\"https://cdnjs.cloudflare.com/ajax/libs/mathjax/2.7.5/MathJax.js?config=TeX-AMS-MML_SVG\"></script><script type=\"text/javascript\">if (window.MathJax && window.MathJax.Hub && window.MathJax.Hub.Config) {window.MathJax.Hub.Config({SVG: {font: \"STIX-Web\"}});}</script>                <script type=\"text/javascript\">window.PlotlyConfig = {MathJaxConfig: 'local'};</script>\n",
              "        <script charset=\"utf-8\" src=\"https://cdn.plot.ly/plotly-2.35.2.min.js\"></script>                <div id=\"23fd4ea8-b5fe-47fd-9200-9f9d0ff8ed02\" class=\"plotly-graph-div\" style=\"height:525px; width:100%;\"></div>            <script type=\"text/javascript\">                                    window.PLOTLYENV=window.PLOTLYENV || {};                                    if (document.getElementById(\"23fd4ea8-b5fe-47fd-9200-9f9d0ff8ed02\")) {                    Plotly.newPlot(                        \"23fd4ea8-b5fe-47fd-9200-9f9d0ff8ed02\",                        [{\"alignmentgroup\":\"True\",\"hovertemplate\":\"Subject=%{x}\\u003cbr\\u003eScore=%{y}\\u003cextra\\u003e\\u003c\\u002fextra\\u003e\",\"legendgroup\":\"Math\",\"marker\":{\"color\":\"#636efa\",\"pattern\":{\"shape\":\"\"}},\"name\":\"Math\",\"offsetgroup\":\"Math\",\"orientation\":\"v\",\"showlegend\":true,\"textposition\":\"auto\",\"x\":[\"Math\"],\"xaxis\":\"x\",\"y\":[90],\"yaxis\":\"y\",\"type\":\"bar\"},{\"alignmentgroup\":\"True\",\"hovertemplate\":\"Subject=%{x}\\u003cbr\\u003eScore=%{y}\\u003cextra\\u003e\\u003c\\u002fextra\\u003e\",\"legendgroup\":\"Science\",\"marker\":{\"color\":\"#EF553B\",\"pattern\":{\"shape\":\"\"}},\"name\":\"Science\",\"offsetgroup\":\"Science\",\"orientation\":\"v\",\"showlegend\":true,\"textposition\":\"auto\",\"x\":[\"Science\"],\"xaxis\":\"x\",\"y\":[85],\"yaxis\":\"y\",\"type\":\"bar\"},{\"alignmentgroup\":\"True\",\"hovertemplate\":\"Subject=%{x}\\u003cbr\\u003eScore=%{y}\\u003cextra\\u003e\\u003c\\u002fextra\\u003e\",\"legendgroup\":\"English\",\"marker\":{\"color\":\"#00cc96\",\"pattern\":{\"shape\":\"\"}},\"name\":\"English\",\"offsetgroup\":\"English\",\"orientation\":\"v\",\"showlegend\":true,\"textposition\":\"auto\",\"x\":[\"English\"],\"xaxis\":\"x\",\"y\":[78],\"yaxis\":\"y\",\"type\":\"bar\"},{\"alignmentgroup\":\"True\",\"hovertemplate\":\"Subject=%{x}\\u003cbr\\u003eScore=%{y}\\u003cextra\\u003e\\u003c\\u002fextra\\u003e\",\"legendgroup\":\"History\",\"marker\":{\"color\":\"#ab63fa\",\"pattern\":{\"shape\":\"\"}},\"name\":\"History\",\"offsetgroup\":\"History\",\"orientation\":\"v\",\"showlegend\":true,\"textposition\":\"auto\",\"x\":[\"History\"],\"xaxis\":\"x\",\"y\":[88],\"yaxis\":\"y\",\"type\":\"bar\"}],                        {\"template\":{\"data\":{\"histogram2dcontour\":[{\"type\":\"histogram2dcontour\",\"colorbar\":{\"outlinewidth\":0,\"ticks\":\"\"},\"colorscale\":[[0.0,\"#0d0887\"],[0.1111111111111111,\"#46039f\"],[0.2222222222222222,\"#7201a8\"],[0.3333333333333333,\"#9c179e\"],[0.4444444444444444,\"#bd3786\"],[0.5555555555555556,\"#d8576b\"],[0.6666666666666666,\"#ed7953\"],[0.7777777777777778,\"#fb9f3a\"],[0.8888888888888888,\"#fdca26\"],[1.0,\"#f0f921\"]]}],\"choropleth\":[{\"type\":\"choropleth\",\"colorbar\":{\"outlinewidth\":0,\"ticks\":\"\"}}],\"histogram2d\":[{\"type\":\"histogram2d\",\"colorbar\":{\"outlinewidth\":0,\"ticks\":\"\"},\"colorscale\":[[0.0,\"#0d0887\"],[0.1111111111111111,\"#46039f\"],[0.2222222222222222,\"#7201a8\"],[0.3333333333333333,\"#9c179e\"],[0.4444444444444444,\"#bd3786\"],[0.5555555555555556,\"#d8576b\"],[0.6666666666666666,\"#ed7953\"],[0.7777777777777778,\"#fb9f3a\"],[0.8888888888888888,\"#fdca26\"],[1.0,\"#f0f921\"]]}],\"heatmap\":[{\"type\":\"heatmap\",\"colorbar\":{\"outlinewidth\":0,\"ticks\":\"\"},\"colorscale\":[[0.0,\"#0d0887\"],[0.1111111111111111,\"#46039f\"],[0.2222222222222222,\"#7201a8\"],[0.3333333333333333,\"#9c179e\"],[0.4444444444444444,\"#bd3786\"],[0.5555555555555556,\"#d8576b\"],[0.6666666666666666,\"#ed7953\"],[0.7777777777777778,\"#fb9f3a\"],[0.8888888888888888,\"#fdca26\"],[1.0,\"#f0f921\"]]}],\"heatmapgl\":[{\"type\":\"heatmapgl\",\"colorbar\":{\"outlinewidth\":0,\"ticks\":\"\"},\"colorscale\":[[0.0,\"#0d0887\"],[0.1111111111111111,\"#46039f\"],[0.2222222222222222,\"#7201a8\"],[0.3333333333333333,\"#9c179e\"],[0.4444444444444444,\"#bd3786\"],[0.5555555555555556,\"#d8576b\"],[0.6666666666666666,\"#ed7953\"],[0.7777777777777778,\"#fb9f3a\"],[0.8888888888888888,\"#fdca26\"],[1.0,\"#f0f921\"]]}],\"contourcarpet\":[{\"type\":\"contourcarpet\",\"colorbar\":{\"outlinewidth\":0,\"ticks\":\"\"}}],\"contour\":[{\"type\":\"contour\",\"colorbar\":{\"outlinewidth\":0,\"ticks\":\"\"},\"colorscale\":[[0.0,\"#0d0887\"],[0.1111111111111111,\"#46039f\"],[0.2222222222222222,\"#7201a8\"],[0.3333333333333333,\"#9c179e\"],[0.4444444444444444,\"#bd3786\"],[0.5555555555555556,\"#d8576b\"],[0.6666666666666666,\"#ed7953\"],[0.7777777777777778,\"#fb9f3a\"],[0.8888888888888888,\"#fdca26\"],[1.0,\"#f0f921\"]]}],\"surface\":[{\"type\":\"surface\",\"colorbar\":{\"outlinewidth\":0,\"ticks\":\"\"},\"colorscale\":[[0.0,\"#0d0887\"],[0.1111111111111111,\"#46039f\"],[0.2222222222222222,\"#7201a8\"],[0.3333333333333333,\"#9c179e\"],[0.4444444444444444,\"#bd3786\"],[0.5555555555555556,\"#d8576b\"],[0.6666666666666666,\"#ed7953\"],[0.7777777777777778,\"#fb9f3a\"],[0.8888888888888888,\"#fdca26\"],[1.0,\"#f0f921\"]]}],\"mesh3d\":[{\"type\":\"mesh3d\",\"colorbar\":{\"outlinewidth\":0,\"ticks\":\"\"}}],\"scatter\":[{\"fillpattern\":{\"fillmode\":\"overlay\",\"size\":10,\"solidity\":0.2},\"type\":\"scatter\"}],\"parcoords\":[{\"type\":\"parcoords\",\"line\":{\"colorbar\":{\"outlinewidth\":0,\"ticks\":\"\"}}}],\"scatterpolargl\":[{\"type\":\"scatterpolargl\",\"marker\":{\"colorbar\":{\"outlinewidth\":0,\"ticks\":\"\"}}}],\"bar\":[{\"error_x\":{\"color\":\"#2a3f5f\"},\"error_y\":{\"color\":\"#2a3f5f\"},\"marker\":{\"line\":{\"color\":\"#E5ECF6\",\"width\":0.5},\"pattern\":{\"fillmode\":\"overlay\",\"size\":10,\"solidity\":0.2}},\"type\":\"bar\"}],\"scattergeo\":[{\"type\":\"scattergeo\",\"marker\":{\"colorbar\":{\"outlinewidth\":0,\"ticks\":\"\"}}}],\"scatterpolar\":[{\"type\":\"scatterpolar\",\"marker\":{\"colorbar\":{\"outlinewidth\":0,\"ticks\":\"\"}}}],\"histogram\":[{\"marker\":{\"pattern\":{\"fillmode\":\"overlay\",\"size\":10,\"solidity\":0.2}},\"type\":\"histogram\"}],\"scattergl\":[{\"type\":\"scattergl\",\"marker\":{\"colorbar\":{\"outlinewidth\":0,\"ticks\":\"\"}}}],\"scatter3d\":[{\"type\":\"scatter3d\",\"line\":{\"colorbar\":{\"outlinewidth\":0,\"ticks\":\"\"}},\"marker\":{\"colorbar\":{\"outlinewidth\":0,\"ticks\":\"\"}}}],\"scattermapbox\":[{\"type\":\"scattermapbox\",\"marker\":{\"colorbar\":{\"outlinewidth\":0,\"ticks\":\"\"}}}],\"scatterternary\":[{\"type\":\"scatterternary\",\"marker\":{\"colorbar\":{\"outlinewidth\":0,\"ticks\":\"\"}}}],\"scattercarpet\":[{\"type\":\"scattercarpet\",\"marker\":{\"colorbar\":{\"outlinewidth\":0,\"ticks\":\"\"}}}],\"carpet\":[{\"aaxis\":{\"endlinecolor\":\"#2a3f5f\",\"gridcolor\":\"white\",\"linecolor\":\"white\",\"minorgridcolor\":\"white\",\"startlinecolor\":\"#2a3f5f\"},\"baxis\":{\"endlinecolor\":\"#2a3f5f\",\"gridcolor\":\"white\",\"linecolor\":\"white\",\"minorgridcolor\":\"white\",\"startlinecolor\":\"#2a3f5f\"},\"type\":\"carpet\"}],\"table\":[{\"cells\":{\"fill\":{\"color\":\"#EBF0F8\"},\"line\":{\"color\":\"white\"}},\"header\":{\"fill\":{\"color\":\"#C8D4E3\"},\"line\":{\"color\":\"white\"}},\"type\":\"table\"}],\"barpolar\":[{\"marker\":{\"line\":{\"color\":\"#E5ECF6\",\"width\":0.5},\"pattern\":{\"fillmode\":\"overlay\",\"size\":10,\"solidity\":0.2}},\"type\":\"barpolar\"}],\"pie\":[{\"automargin\":true,\"type\":\"pie\"}]},\"layout\":{\"autotypenumbers\":\"strict\",\"colorway\":[\"#636efa\",\"#EF553B\",\"#00cc96\",\"#ab63fa\",\"#FFA15A\",\"#19d3f3\",\"#FF6692\",\"#B6E880\",\"#FF97FF\",\"#FECB52\"],\"font\":{\"color\":\"#2a3f5f\"},\"hovermode\":\"closest\",\"hoverlabel\":{\"align\":\"left\"},\"paper_bgcolor\":\"white\",\"plot_bgcolor\":\"#E5ECF6\",\"polar\":{\"bgcolor\":\"#E5ECF6\",\"angularaxis\":{\"gridcolor\":\"white\",\"linecolor\":\"white\",\"ticks\":\"\"},\"radialaxis\":{\"gridcolor\":\"white\",\"linecolor\":\"white\",\"ticks\":\"\"}},\"ternary\":{\"bgcolor\":\"#E5ECF6\",\"aaxis\":{\"gridcolor\":\"white\",\"linecolor\":\"white\",\"ticks\":\"\"},\"baxis\":{\"gridcolor\":\"white\",\"linecolor\":\"white\",\"ticks\":\"\"},\"caxis\":{\"gridcolor\":\"white\",\"linecolor\":\"white\",\"ticks\":\"\"}},\"coloraxis\":{\"colorbar\":{\"outlinewidth\":0,\"ticks\":\"\"}},\"colorscale\":{\"sequential\":[[0.0,\"#0d0887\"],[0.1111111111111111,\"#46039f\"],[0.2222222222222222,\"#7201a8\"],[0.3333333333333333,\"#9c179e\"],[0.4444444444444444,\"#bd3786\"],[0.5555555555555556,\"#d8576b\"],[0.6666666666666666,\"#ed7953\"],[0.7777777777777778,\"#fb9f3a\"],[0.8888888888888888,\"#fdca26\"],[1.0,\"#f0f921\"]],\"sequentialminus\":[[0.0,\"#0d0887\"],[0.1111111111111111,\"#46039f\"],[0.2222222222222222,\"#7201a8\"],[0.3333333333333333,\"#9c179e\"],[0.4444444444444444,\"#bd3786\"],[0.5555555555555556,\"#d8576b\"],[0.6666666666666666,\"#ed7953\"],[0.7777777777777778,\"#fb9f3a\"],[0.8888888888888888,\"#fdca26\"],[1.0,\"#f0f921\"]],\"diverging\":[[0,\"#8e0152\"],[0.1,\"#c51b7d\"],[0.2,\"#de77ae\"],[0.3,\"#f1b6da\"],[0.4,\"#fde0ef\"],[0.5,\"#f7f7f7\"],[0.6,\"#e6f5d0\"],[0.7,\"#b8e186\"],[0.8,\"#7fbc41\"],[0.9,\"#4d9221\"],[1,\"#276419\"]]},\"xaxis\":{\"gridcolor\":\"white\",\"linecolor\":\"white\",\"ticks\":\"\",\"title\":{\"standoff\":15},\"zerolinecolor\":\"white\",\"automargin\":true,\"zerolinewidth\":2},\"yaxis\":{\"gridcolor\":\"white\",\"linecolor\":\"white\",\"ticks\":\"\",\"title\":{\"standoff\":15},\"zerolinecolor\":\"white\",\"automargin\":true,\"zerolinewidth\":2},\"scene\":{\"xaxis\":{\"backgroundcolor\":\"#E5ECF6\",\"gridcolor\":\"white\",\"linecolor\":\"white\",\"showbackground\":true,\"ticks\":\"\",\"zerolinecolor\":\"white\",\"gridwidth\":2},\"yaxis\":{\"backgroundcolor\":\"#E5ECF6\",\"gridcolor\":\"white\",\"linecolor\":\"white\",\"showbackground\":true,\"ticks\":\"\",\"zerolinecolor\":\"white\",\"gridwidth\":2},\"zaxis\":{\"backgroundcolor\":\"#E5ECF6\",\"gridcolor\":\"white\",\"linecolor\":\"white\",\"showbackground\":true,\"ticks\":\"\",\"zerolinecolor\":\"white\",\"gridwidth\":2}},\"shapedefaults\":{\"line\":{\"color\":\"#2a3f5f\"}},\"annotationdefaults\":{\"arrowcolor\":\"#2a3f5f\",\"arrowhead\":0,\"arrowwidth\":1},\"geo\":{\"bgcolor\":\"white\",\"landcolor\":\"#E5ECF6\",\"subunitcolor\":\"white\",\"showland\":true,\"showlakes\":true,\"lakecolor\":\"white\"},\"title\":{\"x\":0.05},\"mapbox\":{\"style\":\"light\"}}},\"xaxis\":{\"anchor\":\"y\",\"domain\":[0.0,1.0],\"title\":{\"text\":\"Subject\"},\"categoryorder\":\"array\",\"categoryarray\":[\"Math\",\"Science\",\"English\",\"History\"]},\"yaxis\":{\"anchor\":\"x\",\"domain\":[0.0,1.0],\"title\":{\"text\":\"Score\"}},\"legend\":{\"title\":{\"text\":\"Subject\"},\"tracegroupgap\":0},\"title\":{\"text\":\"Student Scores by Subject\"},\"barmode\":\"relative\"},                        {\"responsive\": true}                    ).then(function(){\n",
              "                            \n",
              "var gd = document.getElementById('23fd4ea8-b5fe-47fd-9200-9f9d0ff8ed02');\n",
              "var x = new MutationObserver(function (mutations, observer) {{\n",
              "        var display = window.getComputedStyle(gd).display;\n",
              "        if (!display || display === 'none') {{\n",
              "            console.log([gd, 'removed!']);\n",
              "            Plotly.purge(gd);\n",
              "            observer.disconnect();\n",
              "        }}\n",
              "}});\n",
              "\n",
              "// Listen for the removal of the full notebook cells\n",
              "var notebookContainer = gd.closest('#notebook-container');\n",
              "if (notebookContainer) {{\n",
              "    x.observe(notebookContainer, {childList: true});\n",
              "}}\n",
              "\n",
              "// Listen for the clearing of the current output cell\n",
              "var outputEl = gd.closest('.output');\n",
              "if (outputEl) {{\n",
              "    x.observe(outputEl, {childList: true});\n",
              "}}\n",
              "\n",
              "                        })                };                            </script>        </div>\n",
              "</body>\n",
              "</html>"
            ]
          },
          "metadata": {}
        }
      ]
    },
    {
      "cell_type": "code",
      "source": [
        "## 6.  Create a DataFrame and add a new column based on an existing column?\n",
        "\n",
        "import pandas as pd\n",
        "\n",
        "# Step 1: Create a DataFrame\n",
        "data = {\n",
        "    'Name': ['Alice', 'Bob', 'Charlie', 'David'],\n",
        "    'Score': [85, 92, 78, 90]\n",
        "}\n",
        "\n",
        "df = pd.DataFrame(data)\n",
        "\n",
        "# Step 2: Add a new column based on 'Score'\n",
        "# Let's say we want to assign grades\n",
        "df['Grade'] = df['Score'].apply(lambda x: 'A' if x >= 90 else 'B' if x >= 80 else 'C')\n",
        "\n",
        "# Step 3: Print the updated DataFrame\n",
        "print(df)"
      ],
      "metadata": {
        "colab": {
          "base_uri": "https://localhost:8080/"
        },
        "id": "z6LNF_H1Tipa",
        "outputId": "d7cdab16-ff7c-4ebf-a411-3ff81c1950d3"
      },
      "execution_count": null,
      "outputs": [
        {
          "output_type": "stream",
          "name": "stdout",
          "text": [
            "      Name  Score Grade\n",
            "0    Alice     85     B\n",
            "1      Bob     92     A\n",
            "2  Charlie     78     C\n",
            "3    David     90     A\n"
          ]
        }
      ]
    },
    {
      "cell_type": "code",
      "source": [
        "## 7. Write a program to perform element-wise multiplication of two NumPy arrays.\n",
        "\n",
        "import numpy as np\n",
        "\n",
        "# Step 1: Create two NumPy arrays\n",
        "arr1 = np.array([1, 2, 3, 4])\n",
        "arr2 = np.array([10, 20, 30, 40])\n",
        "\n",
        "# Step 2: Element-wise multiplication\n",
        "result = arr1 * arr2\n",
        "\n",
        "# Step 3: Print the result\n",
        "print(\"Array 1:\", arr1)\n",
        "print(\"Array 2:\", arr2)\n",
        "print(\"Element-wise Multiplication:\", result)"
      ],
      "metadata": {
        "colab": {
          "base_uri": "https://localhost:8080/"
        },
        "id": "zjCK4oCdTwtI",
        "outputId": "aedd5477-1196-48bf-d8dc-971e528d91d5"
      },
      "execution_count": null,
      "outputs": [
        {
          "output_type": "stream",
          "name": "stdout",
          "text": [
            "Array 1: [1 2 3 4]\n",
            "Array 2: [10 20 30 40]\n",
            "Element-wise Multiplication: [ 10  40  90 160]\n"
          ]
        }
      ]
    },
    {
      "cell_type": "code",
      "source": [
        "## 8. Create a line plot with multiple lines using Matplotlib?\n",
        "\n",
        "import matplotlib.pyplot as plt\n",
        "\n",
        "# Step 1: Sample data\n",
        "x = [1, 2, 3, 4, 5]\n",
        "y1 = [10, 15, 20, 25, 30]\n",
        "y2 = [8, 16, 18, 22, 28]\n",
        "\n",
        "# Step 2: Create line plots\n",
        "plt.plot(x, y1, label='Line 1', color='blue', marker='o')\n",
        "plt.plot(x, y2, label='Line 2', color='green', linestyle='--', marker='s')\n",
        "\n",
        "# Step 3: Add titles and labels\n",
        "plt.title(\"Line Plot with Multiple Lines\")\n",
        "plt.xlabel(\"X-axis\")\n",
        "plt.ylabel(\"Y-axis\")\n",
        "\n",
        "# Step 4: Add legend\n",
        "plt.legend()\n",
        "\n",
        "# Step 5: Show the plot\n",
        "plt.show()"
      ],
      "metadata": {
        "colab": {
          "base_uri": "https://localhost:8080/",
          "height": 472
        },
        "id": "4nb4AER-Uvm2",
        "outputId": "3efe5e35-df9b-490b-f639-411a42b8ed73"
      },
      "execution_count": null,
      "outputs": [
        {
          "output_type": "display_data",
          "data": {
            "text/plain": [
              "<Figure size 640x480 with 1 Axes>"
            ],
            "image/png": "[encoded data removed]"
          },
          "metadata": {}
        }
      ]
    },
    {
      "cell_type": "code",
      "source": [
        "## 9. Generate a Pandas DataFrame and filter rows where a column value is greater than a threshold?\n",
        "\n",
        "import pandas as pd\n",
        "\n",
        "# Step 1: Create a DataFrame\n",
        "data = {\n",
        "    'Name': ['Alice', 'Bob', 'Charlie', 'David'],\n",
        "    'Score': [85, 92, 78, 90]\n",
        "}\n",
        "\n",
        "df = pd.DataFrame(data)\n",
        "\n",
        "# Step 2: Filter rows where 'Score' is greater than 85\n",
        "filtered_df = df[df['Score'] > 85]\n",
        "\n",
        "# Step 3: Print the filtered DataFrame\n",
        "print(filtered_df)"
      ],
      "metadata": {
        "colab": {
          "base_uri": "https://localhost:8080/"
        },
        "id": "z8tFYQe7U8EN",
        "outputId": "34e918dc-b6f4-41df-8dc1-b273f0c3e2b4"
      },
      "execution_count": null,
      "outputs": [
        {
          "output_type": "stream",
          "name": "stdout",
          "text": [
            "    Name  Score\n",
            "1    Bob     92\n",
            "3  David     90\n"
          ]
        }
      ]
    },
    {
      "cell_type": "code",
      "source": [
        "## 10. Create a histogram using Seaborn to visualize a distribution?\n",
        "\n",
        "import seaborn as sns\n",
        "import matplotlib.pyplot as plt\n",
        "\n",
        "# Step 1: Sample data\n",
        "data = [65, 70, 72, 68, 74, 73, 75, 78, 80, 85, 82, 77, 74, 76, 79, 81, 83, 86]\n",
        "\n",
        "# Step 2: Create a histogram\n",
        "sns.histplot(data, bins=8, kde=True, color='skyblue')\n",
        "\n",
        "# Step 3: Add title and labels\n",
        "plt.title(\"Distribution of Scores\")\n",
        "plt.xlabel(\"Score\")\n",
        "plt.ylabel(\"Frequency\")\n",
        "\n",
        "# Step 4: Show the plot\n",
        "plt.show()"
      ],
      "metadata": {
        "colab": {
          "base_uri": "https://localhost:8080/",
          "height": 472
        },
        "id": "SKLwoidyVH-7",
        "outputId": "566df5b3-646e-4cfa-e0be-3201ee7fe561"
      },
      "execution_count": null,
      "outputs": [
        {
          "output_type": "display_data",
          "data": {
            "text/plain": [
              "<Figure size 640x480 with 1 Axes>"
            ],
            "image/png": "[encoded data removed]"
          },
          "metadata": {}
        }
      ]
    },
    {
      "cell_type": "code",
      "source": [
        "## 11.  Perform matrix multiplication using NumPy?\n",
        "\n",
        "import numpy as np\n",
        "\n",
        "# Define two matrices\n",
        "A = np.array([[1, 2],\n",
        "              [3, 4]])\n",
        "\n",
        "B = np.array([[5, 6],\n",
        "              [7, 8]])\n",
        "\n",
        "# Method 1: Using @ operator\n",
        "result1 = A @ B\n",
        "\n",
        "# Method 2: Using np.dot()\n",
        "result2 = np.dot(A, B)\n",
        "\n",
        "# Method 3: Using np.matmul()\n",
        "result3 = np.matmul(A, B)\n",
        "\n",
        "# Print the result\n",
        "print(\"Result using @:\\n\", result1)\n",
        "print(\"Result using np.dot:\\n\", result2)\n",
        "print(\"Result using np.matmul:\\n\", result3)"
      ],
      "metadata": {
        "id": "1Zu5-QUHVWlC",
        "colab": {
          "base_uri": "https://localhost:8080/"
        },
        "outputId": "3d563ac6-95b5-4652-c2a0-4832d6fe5a5e"
      },
      "execution_count": null,
      "outputs": [
        {
          "output_type": "stream",
          "name": "stdout",
          "text": [
            "Result using @:\n",
            " [[19 22]\n",
            " [43 50]]\n",
            "Result using np.dot:\n",
            " [[19 22]\n",
            " [43 50]]\n",
            "Result using np.matmul:\n",
            " [[19 22]\n",
            " [43 50]]\n"
          ]
        }
      ]
    },
    {
      "cell_type": "code",
      "source": [
        "## 12. Use Pandas to load a CSV file and display its first 5 rows.\n",
        "\n",
        "import pandas as pd\n",
        "\n",
        "# Load the CSV file\n",
        "df = pd.read_csv(\"players.csv\")  # Replace 'your_file.csv' with the actual file path or name\n",
        "\n",
        "# Display the first 5 rows\n",
        "print(df.head())"
      ],
      "metadata": {
        "colab": {
          "base_uri": "https://localhost:8080/"
        },
        "id": "hN8Pu477lUAh",
        "outputId": "b88ffdcd-934a-4b66-9134-94134ce21ebc"
      },
      "execution_count": 3,
      "outputs": [
        {
          "output_type": "stream",
          "name": "stdout",
          "text": [
            "  Rk         Player Pos Age   Tm   G  GS    MP   FG  FGA  ...   FT%  ORB  DRB  \\\n",
            "0  1     Quincy Acy  PF  24  NYK  68  22  1287  152  331  ...  .784   79  222   \n",
            "1  2   Jordan Adams  SG  20  MEM  30   0   248   35   86  ...  .609    9   19   \n",
            "2  3   Steven Adams   C  21  OKC  70  67  1771  217  399  ...  .502  199  324   \n",
            "3  4    Jeff Adrien  PF  28  MIN  17   0   215   19   44  ...  .579   23   54   \n",
            "4  5  Arron Afflalo  SG  29  TOT  78  72  2502  375  884  ...  .843   27  220   \n",
            "\n",
            "   TRB  AST STL BLK  TOV   PF   PTS  \n",
            "0  301   68  27  22   60  147   398  \n",
            "1   28   16  16   7   14   24    94  \n",
            "2  523   66  38  86   99  222   537  \n",
            "3   77   15   4   9    9   30    60  \n",
            "4  247  129  41   7  116  167  1035  \n",
            "\n",
            "[5 rows x 30 columns]\n"
          ]
        }
      ]
    },
    {
      "cell_type": "code",
      "source": [
        "## 13. Create a 3D scatter plot using Plotly.\n",
        "\n",
        "import plotly.graph_objects as go\n",
        "import numpy as np\n",
        "\n",
        "# Generate sample 3D data\n",
        "x = np.random.rand(50)\n",
        "y = np.random.rand(50)\n",
        "z = np.random.rand(50)\n",
        "\n",
        "# Create 3D scatter plot\n",
        "fig = go.Figure(data=[go.Scatter3d(\n",
        "    x=x, y=y, z=z,\n",
        "    mode='markers',\n",
        "    marker=dict(\n",
        "        size=6,\n",
        "        color=z,              # Color by z value\n",
        "        colorscale='Viridis', # Choose a colorscale\n",
        "        opacity=0.8\n",
        "    )\n",
        ")])\n",
        "\n",
        "# Update layout\n",
        "fig.update_layout(title='3D Scatter Plot',\n",
        "                  scene=dict(\n",
        "                      xaxis_title='X Axis',\n",
        "                      yaxis_title='Y Axis',\n",
        "                      zaxis_title='Z Axis'))\n",
        "\n",
        "# Show the plot\n",
        "fig.show()"
      ],
      "metadata": {
        "colab": {
          "base_uri": "https://localhost:8080/",
          "height": 542
        },
        "id": "TvmVLoU0mnVA",
        "outputId": "b2a164f9-ce93-4cba-a0b8-121b17e294ef"
      },
      "execution_count": null,
      "outputs": [
        {
          "output_type": "display_data",
          "data": {
            "text/html": [
              "<html>\n",
              "<head><meta charset=\"utf-8\" /></head>\n",
              "<body>\n",
              "    <div>            <script src=\"https://cdnjs.cloudflare.com/ajax/libs/mathjax/2.7.5/MathJax.js?config=TeX-AMS-MML_SVG\"></script><script type=\"text/javascript\">if (window.MathJax && window.MathJax.Hub && window.MathJax.Hub.Config) {window.MathJax.Hub.Config({SVG: {font: \"STIX-Web\"}});}</script>                <script type=\"text/javascript\">window.PlotlyConfig = {MathJaxConfig: 'local'};</script>\n",
              "        <script charset=\"utf-8\" src=\"https://cdn.plot.ly/plotly-2.35.2.min.js\"></script>                <div id=\"19d6889c-495d-4f7c-b259-56cca70cc36c\" class=\"plotly-graph-div\" style=\"height:525px; width:100%;\"></div>            <script type=\"text/javascript\">                                    window.PLOTLYENV=window.PLOTLYENV || {};                                    if (document.getElementById(\"19d6889c-495d-4f7c-b259-56cca70cc36c\")) {                    Plotly.newPlot(                        \"19d6889c-495d-4f7c-b259-56cca70cc36c\",                        [{\"marker\":{\"color\":[0.09628583970741211,0.8852244768907694,0.3918297666398146,0.7953066156761589,0.6591823478331994,0.8543809366195682,0.5982108127012364,0.5961573968939888,0.6386169253169546,0.3054699677852838,0.4901639761975405,0.065093509153473,0.5938090069447186,0.41964190256001077,0.5329956171280189,0.27413886576283353,0.6086079343096947,0.8887615770770096,0.8869114887299798,0.3389141181436105,0.30877639797403056,0.18614885531385406,0.5347244886101229,0.22746115245086584,0.9319174727409959,0.4207696150297733,0.2021396536079494,0.8123992174433394,0.37335168339717384,0.059244731114371896,0.4502379905915992,0.834171722883946,0.7752660787044098,0.6020618391234824,0.8163073752496824,0.8657927348349649,0.5626172061267293,0.6570889734798928,0.8998115096152415,0.9133858611129829,0.0200135027708348,0.898955099492614,0.2610351214542723,0.9046323006700945,0.594773181637677,0.4365296079331764,0.1987430372304192,0.693704984803603,0.12929577359850464,0.2554970500418101],\"colorscale\":[[0.0,\"#440154\"],[0.1111111111111111,\"#482878\"],[0.2222222222222222,\"#3e4989\"],[0.3333333333333333,\"#31688e\"],[0.4444444444444444,\"#26828e\"],[0.5555555555555556,\"#1f9e89\"],[0.6666666666666666,\"#35b779\"],[0.7777777777777778,\"#6ece58\"],[0.8888888888888888,\"#b5de2b\"],[1.0,\"#fde725\"]],\"opacity\":0.8,\"size\":6},\"mode\":\"markers\",\"x\":[0.7039376242650502,0.5506880384913272,0.6784329040084943,0.806929562897967,0.9800605931856919,0.16910372367425275,0.07193134569524029,0.06988031599082722,0.6769779241744363,0.37341731217585494,0.7983450102745688,0.6775325103361379,0.9991307422038761,0.16925501186265768,0.8605547927315285,0.2486768753800055,0.6555136063901914,0.1103092960204628,0.14621444061411648,0.14813277606758524,0.46202351090676474,0.029436432266673584,0.3234781959170664,0.4474508563002759,0.6969286887159009,0.44318723566700935,0.59413726813174,0.9585673266377756,0.9840697218929766,0.08179453712177842,0.6631519311038538,0.20815195649654683,0.5280611915085822,0.23880792166579146,0.4641867314417817,0.27226039088523113,0.26183722676322285,0.9377382426413644,0.36747721513351617,0.6122636623695733,0.5642718252262946,0.030807403024212032,0.9863577246954085,0.5163023713576459,0.8911323294815601,0.612007332273098,0.6457928419253716,0.5031868676203419,0.02512228266584393,0.847854312749214],\"y\":[0.4760912128242831,0.05825713221067286,0.4222267002820337,0.23704583743418262,0.4499708905178994,0.2349226997915903,0.973999819499978,0.7784496062386793,0.9181584090053437,0.8980602447080454,0.5457929399408115,0.36027082936347365,0.5805378707258727,0.8248650907952165,0.02027518140435325,0.9717401282988449,0.9330537714161726,0.5581579341104052,0.24906835347584877,0.5513579864851091,0.021468048873839796,0.4790593039500709,0.9033313960327741,0.47235997798143137,0.6833166142796979,0.9381681756321121,0.09772492795705323,0.18188032616817718,0.3987486601996857,0.8490017497275846,0.10197426199917081,0.6965899541206806,0.7229194188860393,0.5184960116660552,0.7956715830129255,0.6713327830332873,0.053923017066142775,0.7634963316255939,0.12035025127077636,0.9174808888224796,0.142590254867778,0.03947393992403836,0.013427057404814091,0.5863043427700645,0.9637014060038488,0.05009083360653277,0.017872935535521717,0.6256322497552759,0.7087345829152393,0.32620445049835345],\"z\":[0.09628583970741211,0.8852244768907694,0.3918297666398146,0.7953066156761589,0.6591823478331994,0.8543809366195682,0.5982108127012364,0.5961573968939888,0.6386169253169546,0.3054699677852838,0.4901639761975405,0.065093509153473,0.5938090069447186,0.41964190256001077,0.5329956171280189,0.27413886576283353,0.6086079343096947,0.8887615770770096,0.8869114887299798,0.3389141181436105,0.30877639797403056,0.18614885531385406,0.5347244886101229,0.22746115245086584,0.9319174727409959,0.4207696150297733,0.2021396536079494,0.8123992174433394,0.37335168339717384,0.059244731114371896,0.4502379905915992,0.834171722883946,0.7752660787044098,0.6020618391234824,0.8163073752496824,0.8657927348349649,0.5626172061267293,0.6570889734798928,0.8998115096152415,0.9133858611129829,0.0200135027708348,0.898955099492614,0.2610351214542723,0.9046323006700945,0.594773181637677,0.4365296079331764,0.1987430372304192,0.693704984803603,0.12929577359850464,0.2554970500418101],\"type\":\"scatter3d\"}],                        {\"template\":{\"data\":{\"histogram2dcontour\":[{\"type\":\"histogram2dcontour\",\"colorbar\":{\"outlinewidth\":0,\"ticks\":\"\"},\"colorscale\":[[0.0,\"#0d0887\"],[0.1111111111111111,\"#46039f\"],[0.2222222222222222,\"#7201a8\"],[0.3333333333333333,\"#9c179e\"],[0.4444444444444444,\"#bd3786\"],[0.5555555555555556,\"#d8576b\"],[0.6666666666666666,\"#ed7953\"],[0.7777777777777778,\"#fb9f3a\"],[0.8888888888888888,\"#fdca26\"],[1.0,\"#f0f921\"]]}],\"choropleth\":[{\"type\":\"choropleth\",\"colorbar\":{\"outlinewidth\":0,\"ticks\":\"\"}}],\"histogram2d\":[{\"type\":\"histogram2d\",\"colorbar\":{\"outlinewidth\":0,\"ticks\":\"\"},\"colorscale\":[[0.0,\"#0d0887\"],[0.1111111111111111,\"#46039f\"],[0.2222222222222222,\"#7201a8\"],[0.3333333333333333,\"#9c179e\"],[0.4444444444444444,\"#bd3786\"],[0.5555555555555556,\"#d8576b\"],[0.6666666666666666,\"#ed7953\"],[0.7777777777777778,\"#fb9f3a\"],[0.8888888888888888,\"#fdca26\"],[1.0,\"#f0f921\"]]}],\"heatmap\":[{\"type\":\"heatmap\",\"colorbar\":{\"outlinewidth\":0,\"ticks\":\"\"},\"colorscale\":[[0.0,\"#0d0887\"],[0.1111111111111111,\"#46039f\"],[0.2222222222222222,\"#7201a8\"],[0.3333333333333333,\"#9c179e\"],[0.4444444444444444,\"#bd3786\"],[0.5555555555555556,\"#d8576b\"],[0.6666666666666666,\"#ed7953\"],[0.7777777777777778,\"#fb9f3a\"],[0.8888888888888888,\"#fdca26\"],[1.0,\"#f0f921\"]]}],\"heatmapgl\":[{\"type\":\"heatmapgl\",\"colorbar\":{\"outlinewidth\":0,\"ticks\":\"\"},\"colorscale\":[[0.0,\"#0d0887\"],[0.1111111111111111,\"#46039f\"],[0.2222222222222222,\"#7201a8\"],[0.3333333333333333,\"#9c179e\"],[0.4444444444444444,\"#bd3786\"],[0.5555555555555556,\"#d8576b\"],[0.6666666666666666,\"#ed7953\"],[0.7777777777777778,\"#fb9f3a\"],[0.8888888888888888,\"#fdca26\"],[1.0,\"#f0f921\"]]}],\"contourcarpet\":[{\"type\":\"contourcarpet\",\"colorbar\":{\"outlinewidth\":0,\"ticks\":\"\"}}],\"contour\":[{\"type\":\"contour\",\"colorbar\":{\"outlinewidth\":0,\"ticks\":\"\"},\"colorscale\":[[0.0,\"#0d0887\"],[0.1111111111111111,\"#46039f\"],[0.2222222222222222,\"#7201a8\"],[0.3333333333333333,\"#9c179e\"],[0.4444444444444444,\"#bd3786\"],[0.5555555555555556,\"#d8576b\"],[0.6666666666666666,\"#ed7953\"],[0.7777777777777778,\"#fb9f3a\"],[0.8888888888888888,\"#fdca26\"],[1.0,\"#f0f921\"]]}],\"surface\":[{\"type\":\"surface\",\"colorbar\":{\"outlinewidth\":0,\"ticks\":\"\"},\"colorscale\":[[0.0,\"#0d0887\"],[0.1111111111111111,\"#46039f\"],[0.2222222222222222,\"#7201a8\"],[0.3333333333333333,\"#9c179e\"],[0.4444444444444444,\"#bd3786\"],[0.5555555555555556,\"#d8576b\"],[0.6666666666666666,\"#ed7953\"],[0.7777777777777778,\"#fb9f3a\"],[0.8888888888888888,\"#fdca26\"],[1.0,\"#f0f921\"]]}],\"mesh3d\":[{\"type\":\"mesh3d\",\"colorbar\":{\"outlinewidth\":0,\"ticks\":\"\"}}],\"scatter\":[{\"fillpattern\":{\"fillmode\":\"overlay\",\"size\":10,\"solidity\":0.2},\"type\":\"scatter\"}],\"parcoords\":[{\"type\":\"parcoords\",\"line\":{\"colorbar\":{\"outlinewidth\":0,\"ticks\":\"\"}}}],\"scatterpolargl\":[{\"type\":\"scatterpolargl\",\"marker\":{\"colorbar\":{\"outlinewidth\":0,\"ticks\":\"\"}}}],\"bar\":[{\"error_x\":{\"color\":\"#2a3f5f\"},\"error_y\":{\"color\":\"#2a3f5f\"},\"marker\":{\"line\":{\"color\":\"#E5ECF6\",\"width\":0.5},\"pattern\":{\"fillmode\":\"overlay\",\"size\":10,\"solidity\":0.2}},\"type\":\"bar\"}],\"scattergeo\":[{\"type\":\"scattergeo\",\"marker\":{\"colorbar\":{\"outlinewidth\":0,\"ticks\":\"\"}}}],\"scatterpolar\":[{\"type\":\"scatterpolar\",\"marker\":{\"colorbar\":{\"outlinewidth\":0,\"ticks\":\"\"}}}],\"histogram\":[{\"marker\":{\"pattern\":{\"fillmode\":\"overlay\",\"size\":10,\"solidity\":0.2}},\"type\":\"histogram\"}],\"scattergl\":[{\"type\":\"scattergl\",\"marker\":{\"colorbar\":{\"outlinewidth\":0,\"ticks\":\"\"}}}],\"scatter3d\":[{\"type\":\"scatter3d\",\"line\":{\"colorbar\":{\"outlinewidth\":0,\"ticks\":\"\"}},\"marker\":{\"colorbar\":{\"outlinewidth\":0,\"ticks\":\"\"}}}],\"scattermapbox\":[{\"type\":\"scattermapbox\",\"marker\":{\"colorbar\":{\"outlinewidth\":0,\"ticks\":\"\"}}}],\"scatterternary\":[{\"type\":\"scatterternary\",\"marker\":{\"colorbar\":{\"outlinewidth\":0,\"ticks\":\"\"}}}],\"scattercarpet\":[{\"type\":\"scattercarpet\",\"marker\":{\"colorbar\":{\"outlinewidth\":0,\"ticks\":\"\"}}}],\"carpet\":[{\"aaxis\":{\"endlinecolor\":\"#2a3f5f\",\"gridcolor\":\"white\",\"linecolor\":\"white\",\"minorgridcolor\":\"white\",\"startlinecolor\":\"#2a3f5f\"},\"baxis\":{\"endlinecolor\":\"#2a3f5f\",\"gridcolor\":\"white\",\"linecolor\":\"white\",\"minorgridcolor\":\"white\",\"startlinecolor\":\"#2a3f5f\"},\"type\":\"carpet\"}],\"table\":[{\"cells\":{\"fill\":{\"color\":\"#EBF0F8\"},\"line\":{\"color\":\"white\"}},\"header\":{\"fill\":{\"color\":\"#C8D4E3\"},\"line\":{\"color\":\"white\"}},\"type\":\"table\"}],\"barpolar\":[{\"marker\":{\"line\":{\"color\":\"#E5ECF6\",\"width\":0.5},\"pattern\":{\"fillmode\":\"overlay\",\"size\":10,\"solidity\":0.2}},\"type\":\"barpolar\"}],\"pie\":[{\"automargin\":true,\"type\":\"pie\"}]},\"layout\":{\"autotypenumbers\":\"strict\",\"colorway\":[\"#636efa\",\"#EF553B\",\"#00cc96\",\"#ab63fa\",\"#FFA15A\",\"#19d3f3\",\"#FF6692\",\"#B6E880\",\"#FF97FF\",\"#FECB52\"],\"font\":{\"color\":\"#2a3f5f\"},\"hovermode\":\"closest\",\"hoverlabel\":{\"align\":\"left\"},\"paper_bgcolor\":\"white\",\"plot_bgcolor\":\"#E5ECF6\",\"polar\":{\"bgcolor\":\"#E5ECF6\",\"angularaxis\":{\"gridcolor\":\"white\",\"linecolor\":\"white\",\"ticks\":\"\"},\"radialaxis\":{\"gridcolor\":\"white\",\"linecolor\":\"white\",\"ticks\":\"\"}},\"ternary\":{\"bgcolor\":\"#E5ECF6\",\"aaxis\":{\"gridcolor\":\"white\",\"linecolor\":\"white\",\"ticks\":\"\"},\"baxis\":{\"gridcolor\":\"white\",\"linecolor\":\"white\",\"ticks\":\"\"},\"caxis\":{\"gridcolor\":\"white\",\"linecolor\":\"white\",\"ticks\":\"\"}},\"coloraxis\":{\"colorbar\":{\"outlinewidth\":0,\"ticks\":\"\"}},\"colorscale\":{\"sequential\":[[0.0,\"#0d0887\"],[0.1111111111111111,\"#46039f\"],[0.2222222222222222,\"#7201a8\"],[0.3333333333333333,\"#9c179e\"],[0.4444444444444444,\"#bd3786\"],[0.5555555555555556,\"#d8576b\"],[0.6666666666666666,\"#ed7953\"],[0.7777777777777778,\"#fb9f3a\"],[0.8888888888888888,\"#fdca26\"],[1.0,\"#f0f921\"]],\"sequentialminus\":[[0.0,\"#0d0887\"],[0.1111111111111111,\"#46039f\"],[0.2222222222222222,\"#7201a8\"],[0.3333333333333333,\"#9c179e\"],[0.4444444444444444,\"#bd3786\"],[0.5555555555555556,\"#d8576b\"],[0.6666666666666666,\"#ed7953\"],[0.7777777777777778,\"#fb9f3a\"],[0.8888888888888888,\"#fdca26\"],[1.0,\"#f0f921\"]],\"diverging\":[[0,\"#8e0152\"],[0.1,\"#c51b7d\"],[0.2,\"#de77ae\"],[0.3,\"#f1b6da\"],[0.4,\"#fde0ef\"],[0.5,\"#f7f7f7\"],[0.6,\"#e6f5d0\"],[0.7,\"#b8e186\"],[0.8,\"#7fbc41\"],[0.9,\"#4d9221\"],[1,\"#276419\"]]},\"xaxis\":{\"gridcolor\":\"white\",\"linecolor\":\"white\",\"ticks\":\"\",\"title\":{\"standoff\":15},\"zerolinecolor\":\"white\",\"automargin\":true,\"zerolinewidth\":2},\"yaxis\":{\"gridcolor\":\"white\",\"linecolor\":\"white\",\"ticks\":\"\",\"title\":{\"standoff\":15},\"zerolinecolor\":\"white\",\"automargin\":true,\"zerolinewidth\":2},\"scene\":{\"xaxis\":{\"backgroundcolor\":\"#E5ECF6\",\"gridcolor\":\"white\",\"linecolor\":\"white\",\"showbackground\":true,\"ticks\":\"\",\"zerolinecolor\":\"white\",\"gridwidth\":2},\"yaxis\":{\"backgroundcolor\":\"#E5ECF6\",\"gridcolor\":\"white\",\"linecolor\":\"white\",\"showbackground\":true,\"ticks\":\"\",\"zerolinecolor\":\"white\",\"gridwidth\":2},\"zaxis\":{\"backgroundcolor\":\"#E5ECF6\",\"gridcolor\":\"white\",\"linecolor\":\"white\",\"showbackground\":true,\"ticks\":\"\",\"zerolinecolor\":\"white\",\"gridwidth\":2}},\"shapedefaults\":{\"line\":{\"color\":\"#2a3f5f\"}},\"annotationdefaults\":{\"arrowcolor\":\"#2a3f5f\",\"arrowhead\":0,\"arrowwidth\":1},\"geo\":{\"bgcolor\":\"white\",\"landcolor\":\"#E5ECF6\",\"subunitcolor\":\"white\",\"showland\":true,\"showlakes\":true,\"lakecolor\":\"white\"},\"title\":{\"x\":0.05},\"mapbox\":{\"style\":\"light\"}}},\"title\":{\"text\":\"3D Scatter Plot\"},\"scene\":{\"xaxis\":{\"title\":{\"text\":\"X Axis\"}},\"yaxis\":{\"title\":{\"text\":\"Y Axis\"}},\"zaxis\":{\"title\":{\"text\":\"Z Axis\"}}}},                        {\"responsive\": true}                    ).then(function(){\n",
              "                            \n",
              "var gd = document.getElementById('19d6889c-495d-4f7c-b259-56cca70cc36c');\n",
              "var x = new MutationObserver(function (mutations, observer) {{\n",
              "        var display = window.getComputedStyle(gd).display;\n",
              "        if (!display || display === 'none') {{\n",
              "            console.log([gd, 'removed!']);\n",
              "            Plotly.purge(gd);\n",
              "            observer.disconnect();\n",
              "        }}\n",
              "}});\n",
              "\n",
              "// Listen for the removal of the full notebook cells\n",
              "var notebookContainer = gd.closest('#notebook-container');\n",
              "if (notebookContainer) {{\n",
              "    x.observe(notebookContainer, {childList: true});\n",
              "}}\n",
              "\n",
              "// Listen for the clearing of the current output cell\n",
              "var outputEl = gd.closest('.output');\n",
              "if (outputEl) {{\n",
              "    x.observe(outputEl, {childList: true});\n",
              "}}\n",
              "\n",
              "                        })                };                            </script>        </div>\n",
              "</body>\n",
              "</html>"
            ]
          },
          "metadata": {}
        }
      ]
    },
    {
      "cell_type": "code",
      "source": [],
      "metadata": {
        "id": "4wbPKZ9onmPe"
      },
      "execution_count": null,
      "outputs": []
    }
  ]
}